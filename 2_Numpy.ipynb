{
  "nbformat": 4,
  "nbformat_minor": 0,
  "metadata": {
    "colab": {
      "provenance": [],
      "toc_visible": true,
      "authorship_tag": "ABX9TyNGIhdBiAJJvkB1T3z0oWnS",
      "include_colab_link": true
    },
    "kernelspec": {
      "name": "python3",
      "display_name": "Python 3"
    },
    "language_info": {
      "name": "python"
    }
  },
  "cells": [
    {
      "cell_type": "markdown",
      "metadata": {
        "id": "view-in-github",
        "colab_type": "text"
      },
      "source": [
        "<a href=\"https://colab.research.google.com/github/uzairazmat/Numpy-Exercise/blob/main/2_Numpy.ipynb\" target=\"_parent\"><img src=\"https://colab.research.google.com/assets/colab-badge.svg\" alt=\"Open In Colab\"/></a>"
      ]
    },
    {
      "cell_type": "code",
      "execution_count": null,
      "metadata": {
        "id": "XXfRxlb0RBdq"
      },
      "outputs": [],
      "source": [
        "import numpy as np"
      ]
    },
    {
      "cell_type": "markdown",
      "source": [
        "# 2.1 Broadcasting\n",
        "## General rule of two dimension are compatible to perform operation\n",
        "1. they are equal\n",
        "2. one of them is one"
      ],
      "metadata": {
        "id": "IQtl-gPbRiGX"
      }
    },
    {
      "cell_type": "code",
      "source": [
        "# what is broadcasting\n",
        "n1 = np.arange(1,6,1)\n",
        "print(n1)\n",
        "print(n1*2) #this make sense multiply 2 with every element of n1\n",
        "\n",
        "print(n1+2) #but what about this why this should work in terms of maths you don't do because of shapes dos'nt match\n",
        "            # this done b/c of broadcasting"
      ],
      "metadata": {
        "colab": {
          "base_uri": "https://localhost:8080/"
        },
        "id": "FLGKNMqCRcmT",
        "outputId": "20ec6ab6-b438-42e5-98da-b44b3c438cf0"
      },
      "execution_count": null,
      "outputs": [
        {
          "output_type": "stream",
          "name": "stdout",
          "text": [
            "[1 2 3 4 5]\n",
            "[ 2  4  6  8 10]\n",
            "[3 4 5 6 7]\n"
          ]
        }
      ]
    },
    {
      "cell_type": "code",
      "source": [
        "x = np.arange(5)\n",
        "print(f\"shape of x is {x.shape}\")\n",
        "\n",
        "xx  = x.reshape(5,1)\n",
        "print(f\"shape of xx is {xx.shape}\")\n",
        "\n",
        "y = np.ones(4)\n",
        "print(f\"shape of y is {y.shape}\")\n",
        "\n",
        "z = np.ones((3,4))\n",
        "print(f\"shape of z is {z.shape}\")"
      ],
      "metadata": {
        "colab": {
          "base_uri": "https://localhost:8080/"
        },
        "id": "SfSd4Av2Rq3n",
        "outputId": "d7ecbbef-18c3-4ee9-d635-be72564c887e"
      },
      "execution_count": null,
      "outputs": [
        {
          "output_type": "stream",
          "name": "stdout",
          "text": [
            "shape of x is (5,)\n",
            "shape of xx is (5, 1)\n",
            "shape of y is (4,)\n",
            "shape of z is (3, 4)\n"
          ]
        }
      ]
    },
    {
      "cell_type": "code",
      "source": [
        "x + y  # because x shape is 4 and y shape is 5 one both are != and no one having one in dimension"
      ],
      "metadata": {
        "colab": {
          "base_uri": "https://localhost:8080/",
          "height": 141
        },
        "id": "A8-dHCKeVKqX",
        "outputId": "c8f51d3b-00ca-482a-f2ac-fb5d04ab6c5a"
      },
      "execution_count": null,
      "outputs": [
        {
          "output_type": "error",
          "ename": "ValueError",
          "evalue": "operands could not be broadcast together with shapes (5,) (4,) ",
          "traceback": [
            "\u001b[0;31m---------------------------------------------------------------------------\u001b[0m",
            "\u001b[0;31mValueError\u001b[0m                                Traceback (most recent call last)",
            "\u001b[0;32m<ipython-input-27-dc3fdc3265cf>\u001b[0m in \u001b[0;36m<cell line: 1>\u001b[0;34m()\u001b[0m\n\u001b[0;32m----> 1\u001b[0;31m \u001b[0mx\u001b[0m \u001b[0;34m+\u001b[0m \u001b[0my\u001b[0m  \u001b[0;31m# because x shape is 4 and y shape is 5 one both are != and no one having one in dimension\u001b[0m\u001b[0;34m\u001b[0m\u001b[0;34m\u001b[0m\u001b[0m\n\u001b[0m",
            "\u001b[0;31mValueError\u001b[0m: operands could not be broadcast together with shapes (5,) (4,) "
          ]
        }
      ]
    },
    {
      "cell_type": "code",
      "source": [
        "xx+y  # they don't equal xx is 5 and y is 4 it's work because xx having one (5,1)\n",
        "      # xx is broadcasted on y because xx having one element in 2 dimention(5,1)"
      ],
      "metadata": {
        "colab": {
          "base_uri": "https://localhost:8080/"
        },
        "id": "32wF3FZVWPsH",
        "outputId": "49702dd5-381e-4c42-d107-a8de82a847d2"
      },
      "execution_count": null,
      "outputs": [
        {
          "output_type": "execute_result",
          "data": {
            "text/plain": [
              "array([[1., 1., 1., 1.],\n",
              "       [2., 2., 2., 2.],\n",
              "       [3., 3., 3., 3.],\n",
              "       [4., 4., 4., 4.],\n",
              "       [5., 5., 5., 5.]])"
            ]
          },
          "metadata": {},
          "execution_count": 30
        }
      ]
    },
    {
      "cell_type": "code",
      "source": [
        "zz = xx.reshape(1,5)\n",
        "print(zz)\n",
        "zz+y"
      ],
      "metadata": {
        "colab": {
          "base_uri": "https://localhost:8080/",
          "height": 193
        },
        "id": "URFXcfQwWvxW",
        "outputId": "645e1cbb-a30c-46c4-8d11-230718264fc6"
      },
      "execution_count": null,
      "outputs": [
        {
          "output_type": "stream",
          "name": "stdout",
          "text": [
            "[[0 1 2 3 4]]\n"
          ]
        },
        {
          "output_type": "error",
          "ename": "ValueError",
          "evalue": "operands could not be broadcast together with shapes (1,5) (4,) ",
          "traceback": [
            "\u001b[0;31m---------------------------------------------------------------------------\u001b[0m",
            "\u001b[0;31mValueError\u001b[0m                                Traceback (most recent call last)",
            "\u001b[0;32m<ipython-input-33-86071c8ce47e>\u001b[0m in \u001b[0;36m<cell line: 3>\u001b[0;34m()\u001b[0m\n\u001b[1;32m      1\u001b[0m \u001b[0mzz\u001b[0m \u001b[0;34m=\u001b[0m \u001b[0mxx\u001b[0m\u001b[0;34m.\u001b[0m\u001b[0mreshape\u001b[0m\u001b[0;34m(\u001b[0m\u001b[0;36m1\u001b[0m\u001b[0;34m,\u001b[0m\u001b[0;36m5\u001b[0m\u001b[0;34m)\u001b[0m\u001b[0;34m\u001b[0m\u001b[0;34m\u001b[0m\u001b[0m\n\u001b[1;32m      2\u001b[0m \u001b[0mprint\u001b[0m\u001b[0;34m(\u001b[0m\u001b[0mzz\u001b[0m\u001b[0;34m)\u001b[0m\u001b[0;34m\u001b[0m\u001b[0;34m\u001b[0m\u001b[0m\n\u001b[0;32m----> 3\u001b[0;31m \u001b[0mzz\u001b[0m\u001b[0;34m+\u001b[0m\u001b[0my\u001b[0m\u001b[0;34m\u001b[0m\u001b[0;34m\u001b[0m\u001b[0m\n\u001b[0m",
            "\u001b[0;31mValueError\u001b[0m: operands could not be broadcast together with shapes (1,5) (4,) "
          ]
        }
      ]
    },
    {
      "cell_type": "code",
      "source": [
        "print(y)\n",
        "print(f\"shape of y is {y.shape}\")\n",
        "\n",
        "print(z)\n",
        "print(f\"shape of z is {z.shape}\")\n",
        "y+z #it's work because one of the is match"
      ],
      "metadata": {
        "colab": {
          "base_uri": "https://localhost:8080/"
        },
        "id": "vJ6Rx4eWYPQ2",
        "outputId": "7507495a-fef4-42ab-ca9a-eaa4679e0758"
      },
      "execution_count": null,
      "outputs": [
        {
          "output_type": "stream",
          "name": "stdout",
          "text": [
            "[1. 1. 1. 1.]\n",
            "shape of y is (4,)\n",
            "[[1. 1. 1. 1.]\n",
            " [1. 1. 1. 1.]\n",
            " [1. 1. 1. 1.]]\n",
            "shape of z is (3, 4)\n"
          ]
        },
        {
          "output_type": "execute_result",
          "data": {
            "text/plain": [
              "array([[2., 2., 2., 2.],\n",
              "       [2., 2., 2., 2.],\n",
              "       [2., 2., 2., 2.]])"
            ]
          },
          "metadata": {},
          "execution_count": 39
        }
      ]
    },
    {
      "cell_type": "markdown",
      "source": [
        "# 2.2 Noramlizing Rows\n",
        "\n",
        "``` Very common  operation This operation always perform in Machine Learning ```\n",
        "\n",
        "for example we want to calculate prices of different houses and compare with each other let's say one house price is 100000000 and second one has  10001000\n",
        "so if we compare both of them it's seems like it has no major difference almost negligible\n",
        "\n",
        "\n",
        "On other hand if you compare rooms in one house having rooms 10 and other having rooms 30 it's huge difference\n",
        "\n",
        "\n",
        "\n",
        "because relative to the first it's not huge difference  \n",
        "\n",
        "Like this example you have both things in one array houses and rooms so you have some how to tell the computer or Ml model which one has huge difference and which one has no difference\n",
        "\n",
        "if you don't able to manage this Model give more weight to the great number like in 1 example 1000\n",
        "but according to situation this is opposite\n",
        "\n",
        "the solution is we have to rescale all the data between 0 and 1\n",
        "\n",
        "if you do rescale on a specific data called rescaling\n",
        "\n",
        "if you do rescale on all data called normalizing\n",
        "\n",
        "\n",
        "## There are many ways to to normalize but the most easiast way to do is divide all values of an array to the maximum value (Row Wise)"
      ],
      "metadata": {
        "id": "VDMMPQ-MetrV"
      }
    },
    {
      "cell_type": "code",
      "source": [
        "n1 = np.array([[100000,200000,300000],\n",
        "               [2,10,6]])\n",
        "\n",
        "max = np.amax(n1, axis = 1) #get row wise max\n",
        "\n",
        "n1/max\n"
      ],
      "metadata": {
        "id": "Cnl77oIVZ2Am",
        "colab": {
          "base_uri": "https://localhost:8080/",
          "height": 176
        },
        "outputId": "53f4fc86-b451-46f2-ff1c-2c55e5f4cf57"
      },
      "execution_count": null,
      "outputs": [
        {
          "output_type": "error",
          "ename": "ValueError",
          "evalue": "operands could not be broadcast together with shapes (2,3) (2,) ",
          "traceback": [
            "\u001b[0;31m---------------------------------------------------------------------------\u001b[0m",
            "\u001b[0;31mValueError\u001b[0m                                Traceback (most recent call last)",
            "\u001b[0;32m<ipython-input-7-9050f189031d>\u001b[0m in \u001b[0;36m<cell line: 6>\u001b[0;34m()\u001b[0m\n\u001b[1;32m      4\u001b[0m \u001b[0mmax\u001b[0m \u001b[0;34m=\u001b[0m \u001b[0mnp\u001b[0m\u001b[0;34m.\u001b[0m\u001b[0mamax\u001b[0m\u001b[0;34m(\u001b[0m\u001b[0mn1\u001b[0m\u001b[0;34m,\u001b[0m \u001b[0maxis\u001b[0m \u001b[0;34m=\u001b[0m \u001b[0;36m1\u001b[0m\u001b[0;34m)\u001b[0m \u001b[0;31m#get row wise max\u001b[0m\u001b[0;34m\u001b[0m\u001b[0;34m\u001b[0m\u001b[0m\n\u001b[1;32m      5\u001b[0m \u001b[0;34m\u001b[0m\u001b[0m\n\u001b[0;32m----> 6\u001b[0;31m \u001b[0mn1\u001b[0m\u001b[0;34m/\u001b[0m\u001b[0mmax\u001b[0m\u001b[0;34m\u001b[0m\u001b[0;34m\u001b[0m\u001b[0m\n\u001b[0m",
            "\u001b[0;31mValueError\u001b[0m: operands could not be broadcast together with shapes (2,3) (2,) "
          ]
        }
      ]
    },
    {
      "cell_type": "code",
      "source": [
        "max = max.reshape(2,1)  #reshap\n",
        "\n",
        "n1 / max"
      ],
      "metadata": {
        "colab": {
          "base_uri": "https://localhost:8080/"
        },
        "id": "7-bbRYkDNmgN",
        "outputId": "d737f48d-5e17-432e-d6ff-5aa8f369a6c2"
      },
      "execution_count": null,
      "outputs": [
        {
          "output_type": "execute_result",
          "data": {
            "text/plain": [
              "array([[0.33333333, 0.66666667, 1.        ],\n",
              "       [0.2       , 1.        , 0.6       ]])"
            ]
          },
          "metadata": {},
          "execution_count": 8
        }
      ]
    },
    {
      "cell_type": "markdown",
      "source": [
        "# Recall Reshaping"
      ],
      "metadata": {
        "id": "wB2pgWR3iNli"
      }
    },
    {
      "cell_type": "code",
      "source": [
        "import matplotlib.pyplot as plt\n"
      ],
      "metadata": {
        "id": "LYDhAtcfhoXa"
      },
      "execution_count": null,
      "outputs": []
    },
    {
      "cell_type": "code",
      "source": [
        "# Create separate R, G, and B arrays (replace these with your actual data)\n",
        "r = np.random.rand(4, 3)\n",
        "g = np.random.rand(4, 3)\n",
        "b = np.random.rand(4, 3)\n",
        "\n",
        "# Stack the arrays to form an RGB image\n",
        "rgb_array = np.dstack((r, g, b))  # Creates a 4x3x3 array\n",
        "\n",
        "# Convert floats (0..1) to uint8 values (0..255)\n",
        "rgb_uint8 = (rgb_array * 255.999).astype(np.uint8)\n",
        "\n"
      ],
      "metadata": {
        "id": "Jn9JE0QfOmMY"
      },
      "execution_count": null,
      "outputs": []
    },
    {
      "cell_type": "code",
      "source": [
        "rgb_uint8"
      ],
      "metadata": {
        "colab": {
          "base_uri": "https://localhost:8080/"
        },
        "id": "X1hcqA_YhgJK",
        "outputId": "e682bc2b-4ae9-4bd0-fb92-224616a2c87d"
      },
      "execution_count": null,
      "outputs": [
        {
          "output_type": "execute_result",
          "data": {
            "text/plain": [
              "array([[[140, 127, 253],\n",
              "        [ 37,  97, 244],\n",
              "        [175,  57,  19]],\n",
              "\n",
              "       [[ 86, 126, 145],\n",
              "        [146,  64, 174],\n",
              "        [ 12, 162, 178]],\n",
              "\n",
              "       [[  5, 165, 226],\n",
              "        [149,   5,  40],\n",
              "        [237,  54, 117]],\n",
              "\n",
              "       [[137,  70,  83],\n",
              "        [122, 117,  14],\n",
              "        [ 25,  76,  14]]], dtype=uint8)"
            ]
          },
          "metadata": {},
          "execution_count": 3
        }
      ]
    },
    {
      "cell_type": "code",
      "source": [
        "_ = plt.imshow(rgb_uint8)"
      ],
      "metadata": {
        "colab": {
          "base_uri": "https://localhost:8080/",
          "height": 435
        },
        "id": "gJ7apvD8hkz5",
        "outputId": "b3933824-79a3-40c4-a778-a6f96803425e"
      },
      "execution_count": null,
      "outputs": [
        {
          "output_type": "display_data",
          "data": {
            "text/plain": [
              "<Figure size 640x480 with 1 Axes>"
            ],
            "image/png": "[encoded data removed]"
          },
          "metadata": {}
        }
      ]
    },
    {
      "cell_type": "markdown",
      "source": [
        "### in nural network you have to give image in vectore form so that's why you need to reshape your image before giving to the network"
      ],
      "metadata": {
        "id": "J8JJroMLiXFh"
      }
    },
    {
      "cell_type": "code",
      "source": [
        "ishape = rgb_uint8.shape\n"
      ],
      "metadata": {
        "id": "_2jK9aXiiCi7"
      },
      "execution_count": null,
      "outputs": []
    },
    {
      "cell_type": "code",
      "source": [
        "rgb_uint8_reshape  = rgb_uint8.reshape(ishape[0] * ishape[1] *ishape[2] , 1)\n",
        "# also known as flatening"
      ],
      "metadata": {
        "id": "WaBb3WgFiyua"
      },
      "execution_count": null,
      "outputs": []
    },
    {
      "cell_type": "code",
      "source": [
        "rgb_uint8_reshape"
      ],
      "metadata": {
        "colab": {
          "base_uri": "https://localhost:8080/"
        },
        "id": "9DDwxLZ3jLLb",
        "outputId": "87780d82-5515-4395-d7db-79c59aef9ace"
      },
      "execution_count": null,
      "outputs": [
        {
          "output_type": "execute_result",
          "data": {
            "text/plain": [
              "array([[140],\n",
              "       [127],\n",
              "       [253],\n",
              "       [ 37],\n",
              "       [ 97],\n",
              "       [244],\n",
              "       [175],\n",
              "       [ 57],\n",
              "       [ 19],\n",
              "       [ 86],\n",
              "       [126],\n",
              "       [145],\n",
              "       [146],\n",
              "       [ 64],\n",
              "       [174],\n",
              "       [ 12],\n",
              "       [162],\n",
              "       [178],\n",
              "       [  5],\n",
              "       [165],\n",
              "       [226],\n",
              "       [149],\n",
              "       [  5],\n",
              "       [ 40],\n",
              "       [237],\n",
              "       [ 54],\n",
              "       [117],\n",
              "       [137],\n",
              "       [ 70],\n",
              "       [ 83],\n",
              "       [122],\n",
              "       [117],\n",
              "       [ 14],\n",
              "       [ 25],\n",
              "       [ 76],\n",
              "       [ 14]], dtype=uint8)"
            ]
          },
          "metadata": {},
          "execution_count": 13
        }
      ]
    },
    {
      "cell_type": "markdown",
      "source": [
        "#Vectoriztion"
      ],
      "metadata": {
        "id": "mIe_ECGbjd4M"
      }
    },
    {
      "cell_type": "code",
      "source": [
        "#if you use some loop use other things such as built in functoins to this"
      ],
      "metadata": {
        "id": "0KA1z-EkjPtK"
      },
      "execution_count": null,
      "outputs": []
    },
    {
      "cell_type": "code",
      "source": [],
      "metadata": {
        "id": "C8Aqsq_elfrj"
      },
      "execution_count": null,
      "outputs": []
    }
  ]
}