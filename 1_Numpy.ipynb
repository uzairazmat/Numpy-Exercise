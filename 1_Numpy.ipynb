{
  "nbformat": 4,
  "nbformat_minor": 0,
  "metadata": {
    "colab": {
      "provenance": [],
      "authorship_tag": "ABX9TyPE+MheytKuwg/oQUGpxk84",
      "include_colab_link": true
    },
    "kernelspec": {
      "name": "python3",
      "display_name": "Python 3"
    },
    "language_info": {
      "name": "python"
    }
  },
  "cells": [
    {
      "cell_type": "markdown",
      "metadata": {
        "id": "view-in-github",
        "colab_type": "text"
      },
      "source": [
        "<a href=\"https://colab.research.google.com/github/uzairazmat/Numpy-Exercise/blob/main/1_Numpy.ipynb\" target=\"_parent\"><img src=\"https://colab.research.google.com/assets/colab-badge.svg\" alt=\"Open In Colab\"/></a>"
      ]
    },
    {
      "cell_type": "markdown",
      "source": [
        "## 1.Import Numpy\n"
      ],
      "metadata": {
        "id": "0EefI_oEiRjK"
      }
    },
    {
      "cell_type": "code",
      "execution_count": 1,
      "metadata": {
        "id": "npKB-C_2h9JV"
      },
      "outputs": [],
      "source": [
        "import numpy as np"
      ]
    },
    {
      "cell_type": "markdown",
      "source": [
        "## 2.Set seed (1337)"
      ],
      "metadata": {
        "id": "AKJkSdC2iv3S"
      }
    },
    {
      "cell_type": "code",
      "source": [
        "np.random.seed(1337)"
      ],
      "metadata": {
        "id": "_CKeghiTivmo"
      },
      "execution_count": 2,
      "outputs": []
    },
    {
      "cell_type": "markdown",
      "source": [
        "## 3.1 Bassics of matrixes"
      ],
      "metadata": {
        "id": "wOQ9YvL4jFGk"
      }
    },
    {
      "cell_type": "markdown",
      "source": [
        "## 3.1.1 create 1-rank tensor"
      ],
      "metadata": {
        "id": "9aNfcZVbjfxc"
      }
    },
    {
      "cell_type": "code",
      "source": [
        "a1 = np.array([1,2,3,5])"
      ],
      "metadata": {
        "id": "Z1EqTKt2iYMg"
      },
      "execution_count": 3,
      "outputs": []
    },
    {
      "cell_type": "code",
      "source": [
        "a1.shape"
      ],
      "metadata": {
        "colab": {
          "base_uri": "https://localhost:8080/"
        },
        "id": "MdaHt9l5jXrV",
        "outputId": "7d307c72-9884-4780-bcbd-9103a192cb8f"
      },
      "execution_count": 4,
      "outputs": [
        {
          "output_type": "execute_result",
          "data": {
            "text/plain": [
              "(4,)"
            ]
          },
          "metadata": {},
          "execution_count": 4
        }
      ]
    },
    {
      "cell_type": "markdown",
      "source": [
        "## 3.1.2 create (2,4) shape"
      ],
      "metadata": {
        "id": "_nauZ8sEkgvw"
      }
    },
    {
      "cell_type": "code",
      "source": [
        "a2 = np.array([[1,2,3,4]\n",
        "               ,[5,6,7,8]])"
      ],
      "metadata": {
        "id": "Cg9WEMGejZ4s"
      },
      "execution_count": 5,
      "outputs": []
    },
    {
      "cell_type": "code",
      "source": [
        "a2.shape"
      ],
      "metadata": {
        "colab": {
          "base_uri": "https://localhost:8080/"
        },
        "id": "eBJ7Msj5kt8R",
        "outputId": "30f89756-a84d-47bc-ad1b-dc16c54dece1"
      },
      "execution_count": 6,
      "outputs": [
        {
          "output_type": "execute_result",
          "data": {
            "text/plain": [
              "(2, 4)"
            ]
          },
          "metadata": {},
          "execution_count": 6
        }
      ]
    },
    {
      "cell_type": "markdown",
      "source": [
        "## 3.1.3 create (1,3) shape"
      ],
      "metadata": {
        "id": "o3F0siqclJqO"
      }
    },
    {
      "cell_type": "code",
      "source": [
        "a3 = np.array([\n",
        "    [1,2,3]\n",
        "    ]\n",
        "              )  #this is essentially called row-vector"
      ],
      "metadata": {
        "id": "j3mIW31Wk7Vk"
      },
      "execution_count": 7,
      "outputs": []
    },
    {
      "cell_type": "code",
      "source": [
        "a3.shape"
      ],
      "metadata": {
        "colab": {
          "base_uri": "https://localhost:8080/"
        },
        "id": "X63j1XlElTaA",
        "outputId": "a4a936f3-5a0d-4743-b68e-bdf8307e5df4"
      },
      "execution_count": 8,
      "outputs": [
        {
          "output_type": "execute_result",
          "data": {
            "text/plain": [
              "(1, 3)"
            ]
          },
          "metadata": {},
          "execution_count": 8
        }
      ]
    },
    {
      "cell_type": "markdown",
      "source": [
        "## 3.1.4 create (999,) shape"
      ],
      "metadata": {
        "id": "zZlmlO9CmOSZ"
      }
    },
    {
      "cell_type": "code",
      "source": [
        "a4 = np.arange(1,1000,1)\n",
        "a4[:10]"
      ],
      "metadata": {
        "colab": {
          "base_uri": "https://localhost:8080/"
        },
        "id": "eshNJgyClU4M",
        "outputId": "da01a1ec-09d0-43bf-d0b7-b2beee3d0d8b"
      },
      "execution_count": 9,
      "outputs": [
        {
          "output_type": "execute_result",
          "data": {
            "text/plain": [
              "array([ 1,  2,  3,  4,  5,  6,  7,  8,  9, 10])"
            ]
          },
          "metadata": {},
          "execution_count": 9
        }
      ]
    },
    {
      "cell_type": "code",
      "source": [
        "a4.shape"
      ],
      "metadata": {
        "colab": {
          "base_uri": "https://localhost:8080/"
        },
        "id": "eFPnXRdBmZpZ",
        "outputId": "306c84a9-919f-475c-cceb-1830e2e4998b"
      },
      "execution_count": 10,
      "outputs": [
        {
          "output_type": "execute_result",
          "data": {
            "text/plain": [
              "(999,)"
            ]
          },
          "metadata": {},
          "execution_count": 10
        }
      ]
    },
    {
      "cell_type": "markdown",
      "source": [
        "## 3.1.5 create (10,) shape to (5,2)"
      ],
      "metadata": {
        "id": "FqcoRLE2nNAA"
      }
    },
    {
      "cell_type": "code",
      "source": [
        "a5 = np.arange(0.5 , 10 , 1)"
      ],
      "metadata": {
        "id": "31NMssPSmo62"
      },
      "execution_count": 11,
      "outputs": []
    },
    {
      "cell_type": "code",
      "source": [
        "a5.shape\n",
        "\n",
        "#  this operation is very useful in machine learning and image processing\n",
        "#     some algorithm provides you some specific shape and some need specific\n",
        "#     shape like neural network (1-rank-tensor) so you need to reshape"
      ],
      "metadata": {
        "colab": {
          "base_uri": "https://localhost:8080/"
        },
        "id": "FzvD8E2Znaq5",
        "outputId": "e531bb20-e7e1-4013-b954-63aba24de541"
      },
      "execution_count": 12,
      "outputs": [
        {
          "output_type": "execute_result",
          "data": {
            "text/plain": [
              "(10,)"
            ]
          },
          "metadata": {},
          "execution_count": 12
        }
      ]
    },
    {
      "cell_type": "markdown",
      "source": [
        "## linespace()"
      ],
      "metadata": {
        "id": "S__Qd-s1pRZ-"
      }
    },
    {
      "cell_type": "code",
      "source": [
        "# evenly spaced but we don't know steps\n",
        "\n",
        "a6 = np.linspace(3,5,10)\n",
        "print(a6)"
      ],
      "metadata": {
        "colab": {
          "base_uri": "https://localhost:8080/"
        },
        "id": "f2mZYv2SncT8",
        "outputId": "d5e22e8c-073f-492b-db81-b7c03fb82d81"
      },
      "execution_count": 13,
      "outputs": [
        {
          "output_type": "stream",
          "name": "stdout",
          "text": [
            "[3.         3.22222222 3.44444444 3.66666667 3.88888889 4.11111111\n",
            " 4.33333333 4.55555556 4.77777778 5.        ]\n"
          ]
        }
      ]
    },
    {
      "cell_type": "markdown",
      "source": [
        "## print this 3.22222222"
      ],
      "metadata": {
        "id": "UMqhhW46p3Lc"
      }
    },
    {
      "cell_type": "code",
      "source": [
        "a6[1]"
      ],
      "metadata": {
        "colab": {
          "base_uri": "https://localhost:8080/"
        },
        "id": "MHoDA60BnhsB",
        "outputId": "e7d4429f-8ccb-4b35-ae47-8279e79dcace"
      },
      "execution_count": 14,
      "outputs": [
        {
          "output_type": "execute_result",
          "data": {
            "text/plain": [
              "3.2222222222222223"
            ]
          },
          "metadata": {},
          "execution_count": 14
        }
      ]
    },
    {
      "cell_type": "markdown",
      "source": [
        "# 3.2 Bassic Operation"
      ],
      "metadata": {
        "id": "_jQeCSOjqzAT"
      }
    },
    {
      "cell_type": "markdown",
      "source": [
        "## Matrix of zeores having shae (3,5)"
      ],
      "metadata": {
        "id": "EOxZ0uFeq9lI"
      }
    },
    {
      "cell_type": "code",
      "source": [
        "a1  = np.zeros((3,5))\n",
        "a1"
      ],
      "metadata": {
        "colab": {
          "base_uri": "https://localhost:8080/"
        },
        "id": "oV_dSMP9qBUk",
        "outputId": "3a211b17-27b1-4983-cb73-bb2195726205"
      },
      "execution_count": 15,
      "outputs": [
        {
          "output_type": "execute_result",
          "data": {
            "text/plain": [
              "array([[0., 0., 0., 0., 0.],\n",
              "       [0., 0., 0., 0., 0.],\n",
              "       [0., 0., 0., 0., 0.]])"
            ]
          },
          "metadata": {},
          "execution_count": 15
        }
      ]
    },
    {
      "cell_type": "markdown",
      "source": [
        "## Matrix of ones having shae (3,5)"
      ],
      "metadata": {
        "id": "Pe0QVV3LtA0h"
      }
    },
    {
      "cell_type": "code",
      "source": [
        "a2 = np.ones((3,5))\n",
        "a2\n",
        "\n",
        "# by defaults numpy operation works in floats"
      ],
      "metadata": {
        "colab": {
          "base_uri": "https://localhost:8080/"
        },
        "id": "Dkc3DDxHrOM6",
        "outputId": "0d766764-869f-475c-94c5-cd872bb04727"
      },
      "execution_count": 16,
      "outputs": [
        {
          "output_type": "execute_result",
          "data": {
            "text/plain": [
              "array([[1., 1., 1., 1., 1.],\n",
              "       [1., 1., 1., 1., 1.],\n",
              "       [1., 1., 1., 1., 1.]])"
            ]
          },
          "metadata": {},
          "execution_count": 16
        }
      ]
    },
    {
      "cell_type": "markdown",
      "source": [
        "## changing specific values"
      ],
      "metadata": {
        "id": "W_H_JoyntZvR"
      }
    },
    {
      "cell_type": "code",
      "source": [
        "a3 = np.arange(1,7,1)\n",
        "a3"
      ],
      "metadata": {
        "colab": {
          "base_uri": "https://localhost:8080/"
        },
        "id": "1DTbgweStH-z",
        "outputId": "6ca521e9-4ce6-49f4-f6b1-25a32ae1aaaf"
      },
      "execution_count": 17,
      "outputs": [
        {
          "output_type": "execute_result",
          "data": {
            "text/plain": [
              "array([1, 2, 3, 4, 5, 6])"
            ]
          },
          "metadata": {},
          "execution_count": 17
        }
      ]
    },
    {
      "cell_type": "code",
      "source": [
        "a3[2] = 4\n",
        "a3"
      ],
      "metadata": {
        "colab": {
          "base_uri": "https://localhost:8080/"
        },
        "id": "FJrxdye_tgNj",
        "outputId": "d7a6b2de-779e-47be-d041-80e61026fde4"
      },
      "execution_count": 18,
      "outputs": [
        {
          "output_type": "execute_result",
          "data": {
            "text/plain": [
              "array([1, 2, 4, 4, 5, 6])"
            ]
          },
          "metadata": {},
          "execution_count": 18
        }
      ]
    },
    {
      "cell_type": "code",
      "source": [
        "a3[:3] = 10\n",
        "a3  #assigning multiple locations"
      ],
      "metadata": {
        "colab": {
          "base_uri": "https://localhost:8080/"
        },
        "id": "N9JIY-Xjts2g",
        "outputId": "eb6cbf2d-1483-4efa-80a2-88382e68721e"
      },
      "execution_count": 19,
      "outputs": [
        {
          "output_type": "execute_result",
          "data": {
            "text/plain": [
              "array([10, 10, 10,  4,  5,  6])"
            ]
          },
          "metadata": {},
          "execution_count": 19
        }
      ]
    },
    {
      "cell_type": "code",
      "source": [
        "a3[:3] = [1,2,3]\n",
        "a3"
      ],
      "metadata": {
        "colab": {
          "base_uri": "https://localhost:8080/"
        },
        "id": "plcgXsBBt4hp",
        "outputId": "7c7ce8ef-204b-4ed9-9e1e-686989f519a4"
      },
      "execution_count": 20,
      "outputs": [
        {
          "output_type": "execute_result",
          "data": {
            "text/plain": [
              "array([1, 2, 3, 4, 5, 6])"
            ]
          },
          "metadata": {},
          "execution_count": 20
        }
      ]
    },
    {
      "cell_type": "markdown",
      "source": [
        "## Most useful case"
      ],
      "metadata": {
        "id": "Co50FFRGwY9B"
      }
    },
    {
      "cell_type": "code",
      "source": [
        "a4 = np.zeros((2,2))\n",
        "a4[0,0] = 1\n",
        "a4[0,1] = 2\n",
        "a4[1,0] = 3\n",
        "\n",
        "a4\n"
      ],
      "metadata": {
        "colab": {
          "base_uri": "https://localhost:8080/"
        },
        "id": "2xgTXyjhvh1C",
        "outputId": "9bd2ac4e-0407-4f7c-cb01-f32d34ec065a"
      },
      "execution_count": 21,
      "outputs": [
        {
          "output_type": "execute_result",
          "data": {
            "text/plain": [
              "array([[1., 2.],\n",
              "       [3., 0.]])"
            ]
          },
          "metadata": {},
          "execution_count": 21
        }
      ]
    },
    {
      "cell_type": "markdown",
      "source": [
        "# Array operation"
      ],
      "metadata": {
        "id": "Bs3Guju3wgdu"
      }
    },
    {
      "cell_type": "code",
      "source": [
        "a4"
      ],
      "metadata": {
        "colab": {
          "base_uri": "https://localhost:8080/"
        },
        "id": "JKNxd1L1wKMc",
        "outputId": "6319442c-e181-4c62-b878-4021fb86758c"
      },
      "execution_count": 22,
      "outputs": [
        {
          "output_type": "execute_result",
          "data": {
            "text/plain": [
              "array([[1., 2.],\n",
              "       [3., 0.]])"
            ]
          },
          "metadata": {},
          "execution_count": 22
        }
      ]
    },
    {
      "cell_type": "markdown",
      "source": [
        "## plus 2 with all elements of a4\n",
        "``` Note! if you are comming from math background you know scalar not add with vector but it's obvious as an programming backgroud ```"
      ],
      "metadata": {
        "id": "o4DYhXDew6wQ"
      }
    },
    {
      "cell_type": "code",
      "source": [
        "a4+2  #means add 2 with every element of b\n",
        "a4  # note it's not inplace operation\n",
        "    #it makes copy\n",
        "    # so that's why it not applicable for a large scale"
      ],
      "metadata": {
        "colab": {
          "base_uri": "https://localhost:8080/"
        },
        "id": "hcnwxfMFw5yt",
        "outputId": "8212d9ba-ee44-4ee6-ebb3-b2b3ba63964b"
      },
      "execution_count": 23,
      "outputs": [
        {
          "output_type": "execute_result",
          "data": {
            "text/plain": [
              "array([[1., 2.],\n",
              "       [3., 0.]])"
            ]
          },
          "metadata": {},
          "execution_count": 23
        }
      ]
    },
    {
      "cell_type": "markdown",
      "source": [
        "## sqaure  of a matrix\n",
        "``` Note in math square of a matrix means you multiply matrix with it's own but here it square's element wise ```\n"
      ],
      "metadata": {
        "id": "pPiueOU8yiXP"
      }
    },
    {
      "cell_type": "markdown",
      "source": [
        "# sum(), b.sum() , b.sum(axis = 0) ,b.sum(axis = 1)\n",
        "```  it's always return a 1-rank tensors ```"
      ],
      "metadata": {
        "id": "LfkHuE0ozPGR"
      }
    },
    {
      "cell_type": "code",
      "source": [
        "sum(a4)  #it's sum's coloumn wise"
      ],
      "metadata": {
        "colab": {
          "base_uri": "https://localhost:8080/"
        },
        "id": "hNT-EsRPxCvJ",
        "outputId": "4356c6a5-f85a-4e67-bec3-4884907aa827"
      },
      "execution_count": 24,
      "outputs": [
        {
          "output_type": "execute_result",
          "data": {
            "text/plain": [
              "array([4., 2.])"
            ]
          },
          "metadata": {},
          "execution_count": 24
        }
      ]
    },
    {
      "cell_type": "code",
      "source": [
        "print(a4)\n",
        "a4.sum()"
      ],
      "metadata": {
        "colab": {
          "base_uri": "https://localhost:8080/"
        },
        "id": "arEz-8FLzbfk",
        "outputId": "624687c8-316c-430a-cffa-7c9a18fed4c6"
      },
      "execution_count": 25,
      "outputs": [
        {
          "output_type": "stream",
          "name": "stdout",
          "text": [
            "[[1. 2.]\n",
            " [3. 0.]]\n"
          ]
        },
        {
          "output_type": "execute_result",
          "data": {
            "text/plain": [
              "6.0"
            ]
          },
          "metadata": {},
          "execution_count": 25
        }
      ]
    },
    {
      "cell_type": "code",
      "source": [
        "a4.sum(axis=0) # it's same's as sum()"
      ],
      "metadata": {
        "colab": {
          "base_uri": "https://localhost:8080/"
        },
        "id": "SKB8UEH3zgEQ",
        "outputId": "54dcfa3a-5ee5-4604-8b16-f08cd8011c9e"
      },
      "execution_count": 26,
      "outputs": [
        {
          "output_type": "execute_result",
          "data": {
            "text/plain": [
              "array([4., 2.])"
            ]
          },
          "metadata": {},
          "execution_count": 26
        }
      ]
    },
    {
      "cell_type": "code",
      "source": [
        "a4.sum(axis = 1) #it sum's row wise"
      ],
      "metadata": {
        "colab": {
          "base_uri": "https://localhost:8080/"
        },
        "id": "Gp7_S57Jzktv",
        "outputId": "ad99d1cf-006d-440a-a939-f052f0b008ed"
      },
      "execution_count": 27,
      "outputs": [
        {
          "output_type": "execute_result",
          "data": {
            "text/plain": [
              "array([3., 3.])"
            ]
          },
          "metadata": {},
          "execution_count": 27
        }
      ]
    },
    {
      "cell_type": "code",
      "source": [
        "a = np.array([[1,2],[5,6]])\n",
        "b = np.array([[9,1],[1,1]])\n",
        "print(a)\n",
        "print(b)"
      ],
      "metadata": {
        "colab": {
          "base_uri": "https://localhost:8080/"
        },
        "id": "9TPLaNVSzxu9",
        "outputId": "b0b9ed7a-68ff-43fa-a8b6-6579a6476826"
      },
      "execution_count": 28,
      "outputs": [
        {
          "output_type": "stream",
          "name": "stdout",
          "text": [
            "[[1 2]\n",
            " [5 6]]\n",
            "[[9 1]\n",
            " [1 1]]\n"
          ]
        }
      ]
    },
    {
      "cell_type": "code",
      "source": [
        "a+b #row wise addition\n"
      ],
      "metadata": {
        "colab": {
          "base_uri": "https://localhost:8080/"
        },
        "id": "70nlsgHC2iwk",
        "outputId": "d59b224b-f5ff-4985-c44d-d3b2987104ac"
      },
      "execution_count": 29,
      "outputs": [
        {
          "output_type": "execute_result",
          "data": {
            "text/plain": [
              "array([[10,  3],\n",
              "       [ 6,  7]])"
            ]
          },
          "metadata": {},
          "execution_count": 29
        }
      ]
    },
    {
      "cell_type": "code",
      "source": [
        "a*b"
      ],
      "metadata": {
        "colab": {
          "base_uri": "https://localhost:8080/"
        },
        "id": "EzBSEDRs2sRa",
        "outputId": "56df970e-b60a-4262-d572-2c0786193f70"
      },
      "execution_count": 30,
      "outputs": [
        {
          "output_type": "execute_result",
          "data": {
            "text/plain": [
              "array([[9, 2],\n",
              "       [5, 6]])"
            ]
          },
          "metadata": {},
          "execution_count": 30
        }
      ]
    },
    {
      "cell_type": "code",
      "source": [
        "a.dot(b)  #this is the actul maths operation"
      ],
      "metadata": {
        "colab": {
          "base_uri": "https://localhost:8080/"
        },
        "id": "TgQE_HYO28rH",
        "outputId": "da965e72-f1c3-4798-b408-7be7589794f9"
      },
      "execution_count": 31,
      "outputs": [
        {
          "output_type": "execute_result",
          "data": {
            "text/plain": [
              "array([[11,  3],\n",
              "       [51, 11]])"
            ]
          },
          "metadata": {},
          "execution_count": 31
        }
      ]
    },
    {
      "cell_type": "code",
      "source": [
        "a**b   #raise something to  the power of a matrix\n",
        "        #it's valid maths"
      ],
      "metadata": {
        "colab": {
          "base_uri": "https://localhost:8080/"
        },
        "id": "z3aS3gFl2-uu",
        "outputId": "1e786939-f42f-4ea8-dda8-b3500cb6960b"
      },
      "execution_count": 32,
      "outputs": [
        {
          "output_type": "execute_result",
          "data": {
            "text/plain": [
              "array([[1, 2],\n",
              "       [5, 6]])"
            ]
          },
          "metadata": {},
          "execution_count": 32
        }
      ]
    },
    {
      "cell_type": "markdown",
      "source": [
        "## tarnspose of a matrix"
      ],
      "metadata": {
        "id": "Yma_8WKe41Kj"
      }
    },
    {
      "cell_type": "code",
      "source": [
        "a = np.array([[1,2],[4,5],[7,8]])\n",
        "print(a)\n",
        "a.shape\n"
      ],
      "metadata": {
        "colab": {
          "base_uri": "https://localhost:8080/"
        },
        "id": "Oaa_fdlG4aVA",
        "outputId": "cb9f5ae1-fb5f-41d9-c412-6f4697d0cc84"
      },
      "execution_count": 33,
      "outputs": [
        {
          "output_type": "stream",
          "name": "stdout",
          "text": [
            "[[1 2]\n",
            " [4 5]\n",
            " [7 8]]\n"
          ]
        },
        {
          "output_type": "execute_result",
          "data": {
            "text/plain": [
              "(3, 2)"
            ]
          },
          "metadata": {},
          "execution_count": 33
        }
      ]
    },
    {
      "cell_type": "code",
      "source": [
        "a.T\n",
        "a.T.shape"
      ],
      "metadata": {
        "colab": {
          "base_uri": "https://localhost:8080/"
        },
        "id": "yQQHkHhv4_XD",
        "outputId": "b5935157-c852-4668-8416-392822016b8b"
      },
      "execution_count": 34,
      "outputs": [
        {
          "output_type": "execute_result",
          "data": {
            "text/plain": [
              "(2, 3)"
            ]
          },
          "metadata": {},
          "execution_count": 34
        }
      ]
    },
    {
      "cell_type": "code",
      "source": [
        "c = np.arange(1,4,1)  #creaeting 1-rank-tensor\n",
        "c.shape"
      ],
      "metadata": {
        "id": "skw5Eizw5DF_",
        "colab": {
          "base_uri": "https://localhost:8080/"
        },
        "outputId": "dd6dd79f-0568-4214-e2ff-c96813a232cc"
      },
      "execution_count": 35,
      "outputs": [
        {
          "output_type": "execute_result",
          "data": {
            "text/plain": [
              "(3,)"
            ]
          },
          "metadata": {},
          "execution_count": 35
        }
      ]
    },
    {
      "cell_type": "code",
      "source": [
        "c.T.shape  # Transpose of 1-rank-tensor is alway 1-rank tensor"
      ],
      "metadata": {
        "colab": {
          "base_uri": "https://localhost:8080/"
        },
        "id": "X0BD4RUn4t0f",
        "outputId": "cc20437c-a401-47aa-8d27-3382339c9f57"
      },
      "execution_count": 36,
      "outputs": [
        {
          "output_type": "execute_result",
          "data": {
            "text/plain": [
              "(3,)"
            ]
          },
          "metadata": {},
          "execution_count": 36
        }
      ]
    },
    {
      "cell_type": "code",
      "source": [
        "c.reshape(3,1).T.shape"
      ],
      "metadata": {
        "colab": {
          "base_uri": "https://localhost:8080/"
        },
        "id": "KAnS0HUl413h",
        "outputId": "293cd639-705f-456e-ed61-1c541b66e138"
      },
      "execution_count": 37,
      "outputs": [
        {
          "output_type": "execute_result",
          "data": {
            "text/plain": [
              "(1, 3)"
            ]
          },
          "metadata": {},
          "execution_count": 37
        }
      ]
    },
    {
      "cell_type": "markdown",
      "source": [
        "## Numpy broadcasting or \"mapping\" work for both scalars and arrayes"
      ],
      "metadata": {
        "id": "7pftES36-XZF"
      }
    },
    {
      "cell_type": "code",
      "source": [
        "s = np.sqrt(4)\n",
        "s"
      ],
      "metadata": {
        "id": "OFxpGjYL5qu5",
        "colab": {
          "base_uri": "https://localhost:8080/"
        },
        "outputId": "ae77a04e-86f0-45ba-ba03-c962d0098a5f"
      },
      "execution_count": 40,
      "outputs": [
        {
          "output_type": "execute_result",
          "data": {
            "text/plain": [
              "2.0"
            ]
          },
          "metadata": {},
          "execution_count": 40
        }
      ]
    },
    {
      "cell_type": "code",
      "source": [
        "n = np.array([[1,2,3],[4,5,6]])\n",
        "s = np.sqrt(n)  # calculate sqrt of every element in an np array\n",
        "s"
      ],
      "metadata": {
        "colab": {
          "base_uri": "https://localhost:8080/"
        },
        "id": "2jCTIzQz-pKM",
        "outputId": "15ef1367-8069-487c-e542-dd398d16a60a"
      },
      "execution_count": 46,
      "outputs": [
        {
          "output_type": "execute_result",
          "data": {
            "text/plain": [
              "array([[1.        , 1.41421356, 1.73205081],\n",
              "       [2.        , 2.23606798, 2.44948974]])"
            ]
          },
          "metadata": {},
          "execution_count": 46
        }
      ]
    },
    {
      "cell_type": "markdown",
      "source": [
        "## Comparing with np array"
      ],
      "metadata": {
        "id": "FJ2f8ET1_hv8"
      }
    },
    {
      "cell_type": "code",
      "source": [
        "n>3  #it's compare a sclar element wise"
      ],
      "metadata": {
        "colab": {
          "base_uri": "https://localhost:8080/"
        },
        "id": "9hXvf7Nd-8pc",
        "outputId": "2038d60f-97c5-426d-ecc3-8afca49817de"
      },
      "execution_count": 48,
      "outputs": [
        {
          "output_type": "execute_result",
          "data": {
            "text/plain": [
              "array([[False, False, False],\n",
              "       [ True,  True,  True]])"
            ]
          },
          "metadata": {},
          "execution_count": 48
        }
      ]
    },
    {
      "cell_type": "code",
      "source": [
        "n2 = np.array([[1,2,5],[4,5,8]])"
      ],
      "metadata": {
        "id": "fKR8kJO6_osq"
      },
      "execution_count": 49,
      "outputs": []
    },
    {
      "cell_type": "code",
      "source": [
        "n == n2"
      ],
      "metadata": {
        "colab": {
          "base_uri": "https://localhost:8080/"
        },
        "id": "WJGiw_vwAPZb",
        "outputId": "9040f8e5-b126-4a89-a8f1-16e30ffcae2d"
      },
      "execution_count": 50,
      "outputs": [
        {
          "output_type": "execute_result",
          "data": {
            "text/plain": [
              "array([[ True,  True, False],\n",
              "       [ True,  True, False]])"
            ]
          },
          "metadata": {},
          "execution_count": 50
        }
      ]
    },
    {
      "cell_type": "markdown",
      "source": [
        "## Misc operations"
      ],
      "metadata": {
        "id": "UJVwCjMfAypU"
      }
    },
    {
      "cell_type": "code",
      "source": [
        "# f(x) = 1/(1+e^(-x)\n",
        "from math import e\n",
        "\"\"\" sigmoid function A sigmoid function is an activation function that is used in neural networks to compress input values into a range between 0 and 1.\"\"\"\n",
        "def sigmoid(x):\n",
        "  return 1. / (1 + e**(-x))\n",
        "  #it's 0.5 on exactly 0 and 1 on +infinity\n",
        ""
      ],
      "metadata": {
        "id": "JJPPhKs-ASgs"
      },
      "execution_count": 63,
      "outputs": []
    },
    {
      "cell_type": "code",
      "source": [
        "sigmoid(0)"
      ],
      "metadata": {
        "colab": {
          "base_uri": "https://localhost:8080/"
        },
        "id": "qjdL9c_3BIFb",
        "outputId": "d9b4410f-339e-4f77-fee0-4e4c9a267954"
      },
      "execution_count": 64,
      "outputs": [
        {
          "output_type": "execute_result",
          "data": {
            "text/plain": [
              "0.5"
            ]
          },
          "metadata": {},
          "execution_count": 64
        }
      ]
    },
    {
      "cell_type": "code",
      "source": [
        "sigmoid(-20)"
      ],
      "metadata": {
        "colab": {
          "base_uri": "https://localhost:8080/"
        },
        "id": "cSvEPTENDYs6",
        "outputId": "4ca5f40a-e0bb-49a7-c797-f9e0052c83fb"
      },
      "execution_count": 67,
      "outputs": [
        {
          "output_type": "execute_result",
          "data": {
            "text/plain": [
              "2.061153618190206e-09"
            ]
          },
          "metadata": {},
          "execution_count": 67
        }
      ]
    },
    {
      "cell_type": "code",
      "source": [
        "#see if we pass list to our sigmoid function\n",
        "l = [1,2,3,4]\n",
        "sigmoid(l)\n",
        "#it's not our b/c our code is only work with scalars"
      ],
      "metadata": {
        "colab": {
          "base_uri": "https://localhost:8080/",
          "height": 332
        },
        "id": "U5w8Wh6KDbDq",
        "outputId": "f304dc1e-3f8c-4e0d-ea12-1d820c480cc7"
      },
      "execution_count": 71,
      "outputs": [
        {
          "output_type": "error",
          "ename": "TypeError",
          "evalue": "bad operand type for unary -: 'list'",
          "traceback": [
            "\u001b[0;31m---------------------------------------------------------------------------\u001b[0m",
            "\u001b[0;31mTypeError\u001b[0m                                 Traceback (most recent call last)",
            "\u001b[0;32m<ipython-input-71-1cf1a842e529>\u001b[0m in \u001b[0;36m<cell line: 3>\u001b[0;34m()\u001b[0m\n\u001b[1;32m      1\u001b[0m \u001b[0;31m#see if we pass list to our sigmoid function\u001b[0m\u001b[0;34m\u001b[0m\u001b[0;34m\u001b[0m\u001b[0m\n\u001b[1;32m      2\u001b[0m \u001b[0ml\u001b[0m \u001b[0;34m=\u001b[0m \u001b[0;34m[\u001b[0m\u001b[0;36m1\u001b[0m\u001b[0;34m,\u001b[0m\u001b[0;36m2\u001b[0m\u001b[0;34m,\u001b[0m\u001b[0;36m3\u001b[0m\u001b[0;34m,\u001b[0m\u001b[0;36m4\u001b[0m\u001b[0;34m]\u001b[0m\u001b[0;34m\u001b[0m\u001b[0;34m\u001b[0m\u001b[0m\n\u001b[0;32m----> 3\u001b[0;31m \u001b[0msigmoid\u001b[0m\u001b[0;34m(\u001b[0m\u001b[0ml\u001b[0m\u001b[0;34m)\u001b[0m\u001b[0;34m\u001b[0m\u001b[0;34m\u001b[0m\u001b[0m\n\u001b[0m\u001b[1;32m      4\u001b[0m \u001b[0;31m#it's not our b/c our code is only work with scalars\u001b[0m\u001b[0;34m\u001b[0m\u001b[0;34m\u001b[0m\u001b[0m\n",
            "\u001b[0;32m<ipython-input-63-d234655ba428>\u001b[0m in \u001b[0;36msigmoid\u001b[0;34m(x)\u001b[0m\n\u001b[1;32m      3\u001b[0m \u001b[0;34m\"\"\" sigmoid function A sigmoid function is an activation function that is used in neural networks to compress input values into a range between 0 and 1.\"\"\"\u001b[0m\u001b[0;34m\u001b[0m\u001b[0;34m\u001b[0m\u001b[0m\n\u001b[1;32m      4\u001b[0m \u001b[0;32mdef\u001b[0m \u001b[0msigmoid\u001b[0m\u001b[0;34m(\u001b[0m\u001b[0mx\u001b[0m\u001b[0;34m)\u001b[0m\u001b[0;34m:\u001b[0m\u001b[0;34m\u001b[0m\u001b[0;34m\u001b[0m\u001b[0m\n\u001b[0;32m----> 5\u001b[0;31m   \u001b[0;32mreturn\u001b[0m \u001b[0;36m1.\u001b[0m \u001b[0;34m/\u001b[0m \u001b[0;34m(\u001b[0m\u001b[0;36m1\u001b[0m \u001b[0;34m+\u001b[0m \u001b[0me\u001b[0m\u001b[0;34m**\u001b[0m\u001b[0;34m(\u001b[0m\u001b[0;34m-\u001b[0m\u001b[0mx\u001b[0m\u001b[0;34m)\u001b[0m\u001b[0;34m)\u001b[0m\u001b[0;34m\u001b[0m\u001b[0;34m\u001b[0m\u001b[0m\n\u001b[0m\u001b[1;32m      6\u001b[0m   \u001b[0;31m#it's 0.5 on exactly 0 and 1 on +infinity\u001b[0m\u001b[0;34m\u001b[0m\u001b[0;34m\u001b[0m\u001b[0m\n\u001b[1;32m      7\u001b[0m \u001b[0;34m\u001b[0m\u001b[0m\n",
            "\u001b[0;31mTypeError\u001b[0m: bad operand type for unary -: 'list'"
          ]
        }
      ]
    },
    {
      "cell_type": "code",
      "source": [
        "# so you ee it's work correctly with np array\n",
        "l = np.array(l)\n",
        "sigmoid(l)"
      ],
      "metadata": {
        "colab": {
          "base_uri": "https://localhost:8080/"
        },
        "id": "pysxXtDGD8oa",
        "outputId": "9ec0a457-686c-4f83-b4a3-c1d5daa980d0"
      },
      "execution_count": 74,
      "outputs": [
        {
          "output_type": "execute_result",
          "data": {
            "text/plain": [
              "array([0.73105858, 0.88079708, 0.95257413, 0.98201379])"
            ]
          },
          "metadata": {},
          "execution_count": 74
        }
      ]
    },
    {
      "cell_type": "code",
      "source": [],
      "metadata": {
        "id": "LIoeXLBcEHqq"
      },
      "execution_count": null,
      "outputs": []
    }
  ]
}